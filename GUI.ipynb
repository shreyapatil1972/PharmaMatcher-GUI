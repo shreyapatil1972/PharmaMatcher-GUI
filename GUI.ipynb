{
 "cells": [
  {
   "cell_type": "code",
   "execution_count": 1,
   "id": "212b1e01-8acf-4710-8f8a-7a4ba2b69a12",
   "metadata": {},
   "outputs": [],
   "source": [
    "import pandas as pd\n",
    "import numpy as np\n",
    "import pickle\n",
    "import nltk\n",
    "from nltk.stem.porter import PorterStemmer\n",
    "from sklearn.feature_extraction.text import CountVectorizer\n",
    "from sklearn.metrics.pairwise import cosine_similarity\n",
    "import tkinter as tk\n",
    "from tkinter import ttk\n"
   ]
  },
  {
   "cell_type": "code",
   "execution_count": 2,
   "id": "49b28f62-2411-4dc3-b709-b42eff498bf3",
   "metadata": {},
   "outputs": [],
   "source": [
    "# Load data and similarity model\n",
    "new_data = pd.DataFrame.from_dict(pickle.load(open(\"medicine_dict.pkl\", \"rb\")))\n",
    "similarity = pickle.load(open(\"similarity.pkl\", \"rb\"))\n",
    "\n",
    "# Initialize the PorterStemmer\n",
    "ps = PorterStemmer()\n"
   ]
  },
  {
   "cell_type": "code",
   "execution_count": 3,
   "id": "34b88b5d-7805-43c3-9a5f-31c5f4eb0de2",
   "metadata": {},
   "outputs": [],
   "source": [
    "# Function to get recommendations\n",
    "def recommendation(medicine):\n",
    "    try:\n",
    "        medicine_index = new_data[new_data['Drug_Name'] == medicine].index[0]\n",
    "        distance = similarity[medicine_index]\n",
    "        medicine_list = sorted(list(enumerate(distance)), reverse=True, key=lambda x: x[1])[1:6]\n",
    "        recommendations = [new_data.iloc[i[0]].Drug_Name for i in medicine_list]\n",
    "        return recommendations\n",
    "    except:\n",
    "        return [\"Medicine not found. Please check the name and try again.\"]\n"
   ]
  },
  {
   "cell_type": "code",
   "execution_count": 5,
   "id": "db2aa8a8-4c27-432c-8bfa-ab31cac8dc38",
   "metadata": {},
   "outputs": [],
   "source": [
    "# GUI setup\n",
    "class MedicineRecommenderApp:\n",
    "    def __init__(self, root):\n",
    "        self.root = root\n",
    "        self.root.title(\"Medicine Recommender System\")\n",
    "\n",
    "        self.label = tk.Label(root, text=\"Enter Medicine Name:\")\n",
    "        self.label.pack(pady=10)\n",
    "\n",
    "        self.medicine_name = tk.Entry(root)\n",
    "        self.medicine_name.pack(pady=10)\n",
    "\n",
    "        self.recommend_button = tk.Button(root, text=\"Get Recommendations\", command=self.get_recommendations)\n",
    "        self.recommend_button.pack(pady=10)\n",
    "\n",
    "        self.result_label = tk.Label(root, text=\"\")\n",
    "        self.result_label.pack(pady=10)\n",
    "\n",
    "        self.recommendations_listbox = tk.Listbox(root)\n",
    "        self.recommendations_listbox.pack(pady=10)\n",
    "\n",
    "    def get_recommendations(self):\n",
    "        medicine = self.medicine_name.get()\n",
    "        recommendations = recommendation(medicine)\n",
    "        self.result_label.config(text=\"Recommendations for '{}':\".format(medicine))\n",
    "        self.recommendations_listbox.delete(0, tk.END)\n",
    "        for rec in recommendations:\n",
    "            self.recommendations_listbox.insert(tk.END, rec)\n",
    "\n",
    "if __name__ == \"__main__\":\n",
    "    root = tk.Tk()\n",
    "    app = MedicineRecommenderApp(root)\n",
    "    root.mainloop()\n"
   ]
  },
  {
   "cell_type": "code",
   "execution_count": null,
   "id": "3a4fd84d-2525-4f5f-900c-17d437314ddb",
   "metadata": {},
   "outputs": [],
   "source": []
  }
 ],
 "metadata": {
  "kernelspec": {
   "display_name": "Python 3 (ipykernel)",
   "language": "python",
   "name": "python3"
  },
  "language_info": {
   "codemirror_mode": {
    "name": "ipython",
    "version": 3
   },
   "file_extension": ".py",
   "mimetype": "text/x-python",
   "name": "python",
   "nbconvert_exporter": "python",
   "pygments_lexer": "ipython3",
   "version": "3.10.4"
  }
 },
 "nbformat": 4,
 "nbformat_minor": 5
}
